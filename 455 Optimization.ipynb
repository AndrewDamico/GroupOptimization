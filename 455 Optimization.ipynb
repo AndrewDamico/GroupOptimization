{
 "cells": [
  {
   "cell_type": "markdown",
   "id": "d87b2414-1be6-4f0b-9a89-231bc275d5bc",
   "metadata": {},
   "source": [
    "# Using Pulp to automate creation of teams based on rank preference"
   ]
  },
  {
   "cell_type": "code",
   "execution_count": 111,
   "id": "18ec0fb8-7e58-460a-b6f1-c5924af38359",
   "metadata": {},
   "outputs": [],
   "source": [
    "import pulp"
   ]
  },
  {
   "cell_type": "markdown",
   "id": "ef0f25f1-0c86-4d19-82d2-6d31d22a5f20",
   "metadata": {},
   "source": [
    "**Problem:** A class has 11 students which need to be placed into 4 groups with a minimum number of 2 students per group and a maximum number of 3 students per group. Each group should be assigned a unique topic out of a list of 8 possible topics. Students may rank their topic preference with 1 being the most desirable topic and 8 being the least desireable topic and these rankings will be taken into account when creating the groups.\n",
    "\n",
    "The possible topics are: \n",
    "* arts\n",
    "* travel\n",
    "* science\n",
    "* nature\n",
    "* health\n",
    "* finance\n",
    "* sports\n",
    "* food\n",
    "\n",
    "**Solution:** We can set this problem up as a constrained optimization problem where we are trying to minimize the objective function. Each of the 4 teams has a 'weight' which is the sum of the weights that the students on the team proscribed to the topic assigned to that team... our goal is to minimize the sum of the weights accross all teams. Our constraints are that each team have a minimum and maximum number of team members, that each team member can only be on 1 team, and that only 4 teams/topics can be created."
   ]
  },
  {
   "cell_type": "markdown",
   "id": "bdf820c7-ab21-49e9-8aa4-8247e5071585",
   "metadata": {},
   "source": [
    "## Data\n",
    "Create a dictionary of student/rankings key value pairs where the key is the students name or ID and the value is a tupple containing the rankings of the items in the order given above (i.e., arts, travel, science, nature, health, finance, sports, food).\n",
    "\n",
    "For students who don't have a preference or do not respond the average weight can be given to all items (i.e., 4.5)."
   ]
  },
  {
   "cell_type": "code",
   "execution_count": 112,
   "id": "0d638b12-5afb-4d73-a173-4d274d9ef9e6",
   "metadata": {},
   "outputs": [],
   "source": [
    "students = {\n",
    "    'student_1': (1,2,3,5,7,6,8,4),\n",
    "    'student_2': (7,2,1,4,5,3,8,6),\n",
    "    'student_3': (5,4,2,1,6,3,7,8),\n",
    "    'student_4': (6,4,5,7,2,8,3,1),\n",
    "    'student_5': (1,4,3,2,5,6,8,7),\n",
    "    'student_6': (8,2,7,5,3,6,1,4),\n",
    "    'student_7': (2,3,4,7,5,8,1,6),\n",
    "    'student_8': (7,6,3,5,1,4,8,2),\n",
    "    'student_9': (3,5,6,1,2,4,8,7),\n",
    "    'student_10': (1,6,7,5,8,3,2,4),\n",
    "    'student_11': (4.5,4.5,4.5,4.5,4.5,4.5,4.5,4.5), #No Preference\n",
    "}"
   ]
  },
  {
   "cell_type": "code",
   "execution_count": 113,
   "id": "51bf2184-4d6f-4ff4-9d7f-596511136ee3",
   "metadata": {},
   "outputs": [
    {
     "name": "stdout",
     "output_type": "stream",
     "text": [
      "student_1 36\n",
      "student_2 36\n",
      "student_3 36\n",
      "student_4 36\n",
      "student_5 36\n",
      "student_6 36\n",
      "student_7 36\n",
      "student_8 36\n",
      "student_9 36\n",
      "student_10 36\n",
      "student_11 36.0\n"
     ]
    }
   ],
   "source": [
    "# Validation\n",
    "# The sum of each of the student's weights should each add up to 36\n",
    "for student, preference in students.items():\n",
    "    print (student, sum(preference))"
   ]
  },
  {
   "cell_type": "code",
   "execution_count": 114,
   "id": "fc9c666f-d049-4b9d-a6da-3087918854d4",
   "metadata": {},
   "outputs": [],
   "source": [
    "# If we want to implement the validation programatically.\n",
    "def validation_1(dictionary, items):\n",
    "    # Each of the tupples should add up to the sum of the range of options.\n",
    "    target = sum(range(items+1))\n",
    "    #If the sum of the valeus of the tupple is equal to the target, we continue. Otherwise we throw an error.\n",
    "    for key, value in dictionary.items():\n",
    "        if sum(value) == target:\n",
    "            pass\n",
    "        else: \n",
    "            print (f'Error {key}: Rankigns do not add to {target}')\n",
    "\n",
    "validation_1(students, 8)"
   ]
  },
  {
   "cell_type": "code",
   "execution_count": 115,
   "id": "c704f680-5855-453f-a5ed-80616cf945d8",
   "metadata": {},
   "outputs": [],
   "source": [
    "# Create a dictionary of all student rankings. Note that we convert all of the rankings \n",
    "# to a float since one of the students (student_11) has scores in float format.\n",
    "student_rankings = {}\n",
    "for student, preference in students.items():\n",
    "    student_rankings[student] = {\n",
    "        'arts': float(preference[0]),\n",
    "        'travel': float(preference[1]),\n",
    "        'science': float(preference[2]),\n",
    "        'nature': float(preference[3]),\n",
    "        'health': float(preference[4]),\n",
    "        'finance': float(preference[5]),\n",
    "        'sports': float(preference[6]),\n",
    "        'food': float(preference[7])\n",
    "    }"
   ]
  },
  {
   "cell_type": "markdown",
   "id": "737b60b8-faf0-477c-b26f-89c8f2a3ea74",
   "metadata": {},
   "source": [
    "## Setup LP Optimization"
   ]
  },
  {
   "cell_type": "markdown",
   "id": "ca407c67-e94a-4cd1-9353-2d647ff2564b",
   "metadata": {},
   "source": [
    "Here we create a pulp linear programming minimization problem."
   ]
  },
  {
   "cell_type": "code",
   "execution_count": 126,
   "id": "1e352763-7c9e-4e09-9e41-ca6940696700",
   "metadata": {},
   "outputs": [],
   "source": [
    "problem = pulp.LpProblem(\"Team_Topic_Assignment\", pulp.LpMinimize)"
   ]
  },
  {
   "cell_type": "markdown",
   "id": "f4c42351-6105-47b2-888a-0e8f7e26c2f6",
   "metadata": {},
   "source": [
    "## Define Variables"
   ]
  },
  {
   "cell_type": "markdown",
   "id": "367519ca-9109-4fbf-9c0d-98b276a95056",
   "metadata": {},
   "source": [
    "We next define the variables using pulp.LpVariable which contain each of the combinations of students and topics which can be assigned."
   ]
  },
  {
   "cell_type": "code",
   "execution_count": 127,
   "id": "a9e79d15-ab91-4f37-90e5-5386cccf717b",
   "metadata": {},
   "outputs": [],
   "source": [
    "assignments = pulp.LpVariable.dicts(\"assignment\",\n",
    "                                    ((student, topic) \n",
    "                                     for student in student_rankings \n",
    "                                     for topic in student_rankings[student]),\n",
    "                                    cat='Binary')"
   ]
  },
  {
   "cell_type": "code",
   "execution_count": 128,
   "id": "6c1f245b-815f-4a53-abf8-b83579fca594",
   "metadata": {},
   "outputs": [
    {
     "data": {
      "text/plain": [
       "True"
      ]
     },
     "execution_count": 128,
     "metadata": {},
     "output_type": "execute_result"
    }
   ],
   "source": [
    "# Validation\n",
    "# 11 students can be assigned to 8 different topics, so the length of the asssignments dictionary should equal 88.\n",
    "len(assignments) == 11*8"
   ]
  },
  {
   "cell_type": "markdown",
   "id": "09474c03-2c85-4d1f-944b-6f24ef59ff66",
   "metadata": {},
   "source": [
    "## Objective Function"
   ]
  },
  {
   "cell_type": "code",
   "execution_count": 129,
   "id": "4e039877-ef77-4142-af1f-efdec50b3e30",
   "metadata": {},
   "outputs": [],
   "source": [
    "# Minimize the sum of rankings\n",
    "problem += pulp.lpSum(assignments[student, topic] * student_rankings[student][topic] \n",
    "                      for student in student_rankings \n",
    "                      for topic in student_rankings[student])"
   ]
  },
  {
   "cell_type": "markdown",
   "id": "c507ebfe-cf4c-498d-95ba-b6fc17618cb0",
   "metadata": {},
   "source": [
    "## Constraints"
   ]
  },
  {
   "cell_type": "code",
   "execution_count": 130,
   "id": "05591ba6-eb1c-4d83-976f-64d8c010da7d",
   "metadata": {},
   "outputs": [],
   "source": [
    "# Constraint: Each student is in exactly one team\n",
    "for student in student_rankings:\n",
    "    problem += pulp.lpSum(assignments[student, topic] \n",
    "                          for topic in student_rankings[student]) == 1"
   ]
  },
  {
   "cell_type": "code",
   "execution_count": 131,
   "id": "09b42ffa-4afa-45db-8053-fbf80ca3b2f3",
   "metadata": {},
   "outputs": [],
   "source": [
    "# Constraint: Only 4 topics are assigned, each to exactly one team\n",
    "topics_assigned = 4\n",
    "max_students = 3\n",
    "\n",
    "selected_topics = pulp.LpVariable.dicts(\"selected_topic\", \n",
    "                                        (topic for topic in next(iter(student_rankings.values())).keys()), cat='Binary')\n",
    "problem += pulp.lpSum(selected_topics[topic] for topic in selected_topics) == topics_assigned  # Exactly 4 topics are selected\n",
    "\n",
    "for topic in selected_topics:\n",
    "    problem += pulp.lpSum(assignments[key, topic] for key in student_rankings) <= max_students * selected_topics[topic]  # Each selected topic is assigned to exactly one team of 3 students"
   ]
  },
  {
   "cell_type": "markdown",
   "id": "d3c4bbd0-8e37-43ce-8592-8a6fb1192980",
   "metadata": {},
   "source": [
    "# Solve"
   ]
  },
  {
   "cell_type": "code",
   "execution_count": 132,
   "id": "568fcfb2-51a8-47de-a773-c63fe554a37f",
   "metadata": {},
   "outputs": [
    {
     "data": {
      "text/plain": [
       "1"
      ]
     },
     "execution_count": 132,
     "metadata": {},
     "output_type": "execute_result"
    }
   ],
   "source": [
    "problem.solve()"
   ]
  },
  {
   "cell_type": "markdown",
   "id": "f6d178ab-c545-4e92-b7ad-6c2cbc74f3a0",
   "metadata": {},
   "source": [
    "# Solution"
   ]
  },
  {
   "cell_type": "code",
   "execution_count": 133,
   "id": "c1b1b2c4-f36a-4df2-a077-e41873dbdbdd",
   "metadata": {
    "scrolled": true
   },
   "outputs": [
    {
     "name": "stdout",
     "output_type": "stream",
     "text": [
      "assignment_('student_1',_'arts')\n",
      "assignment_('student_10',_'arts')\n",
      "assignment_('student_11',_'sports')\n",
      "assignment_('student_2',_'science')\n",
      "assignment_('student_3',_'science')\n",
      "assignment_('student_4',_'health')\n",
      "assignment_('student_5',_'arts')\n",
      "assignment_('student_6',_'sports')\n",
      "assignment_('student_7',_'sports')\n",
      "assignment_('student_8',_'health')\n",
      "assignment_('student_9',_'health')\n"
     ]
    }
   ],
   "source": [
    "for combination in problem.variables():\n",
    "    if combination.varValue > 0 and 'assignment' in combination.name:\n",
    "        print(combination.name)"
   ]
  },
  {
   "cell_type": "code",
   "execution_count": null,
   "id": "fae05265-5860-472d-b7da-ef18a6c95f3a",
   "metadata": {},
   "outputs": [],
   "source": []
  }
 ],
 "metadata": {
  "kernelspec": {
   "display_name": "Python 3 (ipykernel)",
   "language": "python",
   "name": "python3"
  },
  "language_info": {
   "codemirror_mode": {
    "name": "ipython",
    "version": 3
   },
   "file_extension": ".py",
   "mimetype": "text/x-python",
   "name": "python",
   "nbconvert_exporter": "python",
   "pygments_lexer": "ipython3",
   "version": "3.9.18"
  }
 },
 "nbformat": 4,
 "nbformat_minor": 5
}
